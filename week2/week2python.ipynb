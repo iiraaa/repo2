{
 "cells": [
  {
   "cell_type": "code",
   "execution_count": 4,
   "id": "ba6abe86",
   "metadata": {},
   "outputs": [
    {
     "data": {
      "text/html": [
       "<div>\n",
       "<style scoped>\n",
       "    .dataframe tbody tr th:only-of-type {\n",
       "        vertical-align: middle;\n",
       "    }\n",
       "\n",
       "    .dataframe tbody tr th {\n",
       "        vertical-align: top;\n",
       "    }\n",
       "\n",
       "    .dataframe thead th {\n",
       "        text-align: right;\n",
       "    }\n",
       "</style>\n",
       "<table border=\"1\" class=\"dataframe\">\n",
       "  <thead>\n",
       "    <tr style=\"text-align: right;\">\n",
       "      <th></th>\n",
       "      <th>id</th>\n",
       "      <th>firstName</th>\n",
       "      <th>lastName</th>\n",
       "      <th>citizenId</th>\n",
       "      <th>age</th>\n",
       "      <th>yearsInCompany</th>\n",
       "      <th>salary</th>\n",
       "      <th>gender</th>\n",
       "      <th>startDate</th>\n",
       "    </tr>\n",
       "  </thead>\n",
       "  <tbody>\n",
       "    <tr>\n",
       "      <th>0</th>\n",
       "      <td>1</td>\n",
       "      <td>Suren</td>\n",
       "      <td>Itgel</td>\n",
       "      <td>SU03</td>\n",
       "      <td>18</td>\n",
       "      <td>0.5</td>\n",
       "      <td>1.50</td>\n",
       "      <td>F</td>\n",
       "      <td>2020-05-13</td>\n",
       "    </tr>\n",
       "    <tr>\n",
       "      <th>1</th>\n",
       "      <td>2</td>\n",
       "      <td>Chimeg</td>\n",
       "      <td>Baldan</td>\n",
       "      <td>BH98</td>\n",
       "      <td>23</td>\n",
       "      <td>2.0</td>\n",
       "      <td>1.70</td>\n",
       "      <td>F</td>\n",
       "      <td>2011-07-12</td>\n",
       "    </tr>\n",
       "    <tr>\n",
       "      <th>2</th>\n",
       "      <td>3</td>\n",
       "      <td>Gerel</td>\n",
       "      <td>Tsog</td>\n",
       "      <td>DA86</td>\n",
       "      <td>35</td>\n",
       "      <td>4.0</td>\n",
       "      <td>1.90</td>\n",
       "      <td>F</td>\n",
       "      <td>2017-06-14</td>\n",
       "    </tr>\n",
       "    <tr>\n",
       "      <th>3</th>\n",
       "      <td>4</td>\n",
       "      <td>Kherlen</td>\n",
       "      <td>Sukh</td>\n",
       "      <td>BU79</td>\n",
       "      <td>42</td>\n",
       "      <td>2.0</td>\n",
       "      <td>1.60</td>\n",
       "      <td>F</td>\n",
       "      <td>2019-11-15</td>\n",
       "    </tr>\n",
       "    <tr>\n",
       "      <th>4</th>\n",
       "      <td>5</td>\n",
       "      <td>Badral</td>\n",
       "      <td>Damchaa</td>\n",
       "      <td>ER89</td>\n",
       "      <td>32</td>\n",
       "      <td>8.0</td>\n",
       "      <td>2.30</td>\n",
       "      <td>M</td>\n",
       "      <td>2013-01-25</td>\n",
       "    </tr>\n",
       "    <tr>\n",
       "      <th>5</th>\n",
       "      <td>6</td>\n",
       "      <td>Dondog</td>\n",
       "      <td>Uuree</td>\n",
       "      <td>DO96</td>\n",
       "      <td>25</td>\n",
       "      <td>3.0</td>\n",
       "      <td>2.10</td>\n",
       "      <td>M</td>\n",
       "      <td>2018-03-04</td>\n",
       "    </tr>\n",
       "    <tr>\n",
       "      <th>6</th>\n",
       "      <td>7</td>\n",
       "      <td>Dash</td>\n",
       "      <td>Byamba</td>\n",
       "      <td>UB92</td>\n",
       "      <td>29</td>\n",
       "      <td>4.0</td>\n",
       "      <td>1.79</td>\n",
       "      <td>M</td>\n",
       "      <td>2017-05-27</td>\n",
       "    </tr>\n",
       "    <tr>\n",
       "      <th>7</th>\n",
       "      <td>8</td>\n",
       "      <td>Bat</td>\n",
       "      <td>Bayar</td>\n",
       "      <td>UB02</td>\n",
       "      <td>19</td>\n",
       "      <td>6.0</td>\n",
       "      <td>2.40</td>\n",
       "      <td>M</td>\n",
       "      <td>2015-07-17</td>\n",
       "    </tr>\n",
       "    <tr>\n",
       "      <th>8</th>\n",
       "      <td>9</td>\n",
       "      <td>Saran</td>\n",
       "      <td>Tuvshin</td>\n",
       "      <td>DU97</td>\n",
       "      <td>24</td>\n",
       "      <td>2.0</td>\n",
       "      <td>1.30</td>\n",
       "      <td>F</td>\n",
       "      <td>2019-08-04</td>\n",
       "    </tr>\n",
       "    <tr>\n",
       "      <th>9</th>\n",
       "      <td>10</td>\n",
       "      <td>Naran</td>\n",
       "      <td>Saikhan</td>\n",
       "      <td>AR91</td>\n",
       "      <td>30</td>\n",
       "      <td>1.0</td>\n",
       "      <td>1.50</td>\n",
       "      <td>M</td>\n",
       "      <td>2020-07-01</td>\n",
       "    </tr>\n",
       "  </tbody>\n",
       "</table>\n",
       "</div>"
      ],
      "text/plain": [
       "   id firstName lastName citizenId  age  yearsInCompany  salary gender  \\\n",
       "0   1     Suren    Itgel      SU03   18             0.5    1.50      F   \n",
       "1   2    Chimeg   Baldan      BH98   23             2.0    1.70      F   \n",
       "2   3     Gerel     Tsog      DA86   35             4.0    1.90      F   \n",
       "3   4   Kherlen     Sukh      BU79   42             2.0    1.60      F   \n",
       "4   5    Badral  Damchaa      ER89   32             8.0    2.30      M   \n",
       "5   6    Dondog    Uuree      DO96   25             3.0    2.10      M   \n",
       "6   7      Dash   Byamba      UB92   29             4.0    1.79      M   \n",
       "7   8       Bat    Bayar      UB02   19             6.0    2.40      M   \n",
       "8   9     Saran  Tuvshin      DU97   24             2.0    1.30      F   \n",
       "9  10     Naran  Saikhan      AR91   30             1.0    1.50      M   \n",
       "\n",
       "   startDate  \n",
       "0 2020-05-13  \n",
       "1 2011-07-12  \n",
       "2 2017-06-14  \n",
       "3 2019-11-15  \n",
       "4 2013-01-25  \n",
       "5 2018-03-04  \n",
       "6 2017-05-27  \n",
       "7 2015-07-17  \n",
       "8 2019-08-04  \n",
       "9 2020-07-01  "
      ]
     },
     "execution_count": 4,
     "metadata": {},
     "output_type": "execute_result"
    }
   ],
   "source": [
    "# read excel data\n",
    "import pandas as pd\n",
    "import numpy as np\n",
    "pd.read_excel(\"C://Users/Ider.E/Desktop/PythonCourse/Lecture 2/repo2/week2/data.xlsx\")"
   ]
  },
  {
   "cell_type": "code",
   "execution_count": 5,
   "id": "558af844",
   "metadata": {},
   "outputs": [],
   "source": [
    "df = pd.read_excel(\"C://Users/Ider.E/Desktop/PythonCourse/Lecture 2/repo2/week2/data.xlsx\")"
   ]
  },
  {
   "cell_type": "code",
   "execution_count": 6,
   "id": "fd3c7757",
   "metadata": {},
   "outputs": [
    {
     "data": {
      "text/html": [
       "<div>\n",
       "<style scoped>\n",
       "    .dataframe tbody tr th:only-of-type {\n",
       "        vertical-align: middle;\n",
       "    }\n",
       "\n",
       "    .dataframe tbody tr th {\n",
       "        vertical-align: top;\n",
       "    }\n",
       "\n",
       "    .dataframe thead th {\n",
       "        text-align: right;\n",
       "    }\n",
       "</style>\n",
       "<table border=\"1\" class=\"dataframe\">\n",
       "  <thead>\n",
       "    <tr style=\"text-align: right;\">\n",
       "      <th></th>\n",
       "      <th>id</th>\n",
       "      <th>firstName</th>\n",
       "      <th>lastName</th>\n",
       "      <th>citizenId</th>\n",
       "      <th>age</th>\n",
       "      <th>yearsInCompany</th>\n",
       "      <th>salary</th>\n",
       "      <th>gender</th>\n",
       "      <th>startDate</th>\n",
       "    </tr>\n",
       "  </thead>\n",
       "  <tbody>\n",
       "    <tr>\n",
       "      <th>0</th>\n",
       "      <td>1</td>\n",
       "      <td>Suren</td>\n",
       "      <td>Itgel</td>\n",
       "      <td>SU03</td>\n",
       "      <td>18</td>\n",
       "      <td>0.5</td>\n",
       "      <td>1.50</td>\n",
       "      <td>F</td>\n",
       "      <td>2020-05-13</td>\n",
       "    </tr>\n",
       "    <tr>\n",
       "      <th>1</th>\n",
       "      <td>2</td>\n",
       "      <td>Chimeg</td>\n",
       "      <td>Baldan</td>\n",
       "      <td>BH98</td>\n",
       "      <td>23</td>\n",
       "      <td>2.0</td>\n",
       "      <td>1.70</td>\n",
       "      <td>F</td>\n",
       "      <td>2011-07-12</td>\n",
       "    </tr>\n",
       "    <tr>\n",
       "      <th>2</th>\n",
       "      <td>3</td>\n",
       "      <td>Gerel</td>\n",
       "      <td>Tsog</td>\n",
       "      <td>DA86</td>\n",
       "      <td>35</td>\n",
       "      <td>4.0</td>\n",
       "      <td>1.90</td>\n",
       "      <td>F</td>\n",
       "      <td>2017-06-14</td>\n",
       "    </tr>\n",
       "    <tr>\n",
       "      <th>3</th>\n",
       "      <td>4</td>\n",
       "      <td>Kherlen</td>\n",
       "      <td>Sukh</td>\n",
       "      <td>BU79</td>\n",
       "      <td>42</td>\n",
       "      <td>2.0</td>\n",
       "      <td>1.60</td>\n",
       "      <td>F</td>\n",
       "      <td>2019-11-15</td>\n",
       "    </tr>\n",
       "    <tr>\n",
       "      <th>4</th>\n",
       "      <td>5</td>\n",
       "      <td>Badral</td>\n",
       "      <td>Damchaa</td>\n",
       "      <td>ER89</td>\n",
       "      <td>32</td>\n",
       "      <td>8.0</td>\n",
       "      <td>2.30</td>\n",
       "      <td>M</td>\n",
       "      <td>2013-01-25</td>\n",
       "    </tr>\n",
       "    <tr>\n",
       "      <th>5</th>\n",
       "      <td>6</td>\n",
       "      <td>Dondog</td>\n",
       "      <td>Uuree</td>\n",
       "      <td>DO96</td>\n",
       "      <td>25</td>\n",
       "      <td>3.0</td>\n",
       "      <td>2.10</td>\n",
       "      <td>M</td>\n",
       "      <td>2018-03-04</td>\n",
       "    </tr>\n",
       "    <tr>\n",
       "      <th>6</th>\n",
       "      <td>7</td>\n",
       "      <td>Dash</td>\n",
       "      <td>Byamba</td>\n",
       "      <td>UB92</td>\n",
       "      <td>29</td>\n",
       "      <td>4.0</td>\n",
       "      <td>1.79</td>\n",
       "      <td>M</td>\n",
       "      <td>2017-05-27</td>\n",
       "    </tr>\n",
       "    <tr>\n",
       "      <th>7</th>\n",
       "      <td>8</td>\n",
       "      <td>Bat</td>\n",
       "      <td>Bayar</td>\n",
       "      <td>UB02</td>\n",
       "      <td>19</td>\n",
       "      <td>6.0</td>\n",
       "      <td>2.40</td>\n",
       "      <td>M</td>\n",
       "      <td>2015-07-17</td>\n",
       "    </tr>\n",
       "    <tr>\n",
       "      <th>8</th>\n",
       "      <td>9</td>\n",
       "      <td>Saran</td>\n",
       "      <td>Tuvshin</td>\n",
       "      <td>DU97</td>\n",
       "      <td>24</td>\n",
       "      <td>2.0</td>\n",
       "      <td>1.30</td>\n",
       "      <td>F</td>\n",
       "      <td>2019-08-04</td>\n",
       "    </tr>\n",
       "    <tr>\n",
       "      <th>9</th>\n",
       "      <td>10</td>\n",
       "      <td>Naran</td>\n",
       "      <td>Saikhan</td>\n",
       "      <td>AR91</td>\n",
       "      <td>30</td>\n",
       "      <td>1.0</td>\n",
       "      <td>1.50</td>\n",
       "      <td>M</td>\n",
       "      <td>2020-07-01</td>\n",
       "    </tr>\n",
       "  </tbody>\n",
       "</table>\n",
       "</div>"
      ],
      "text/plain": [
       "   id firstName lastName citizenId  age  yearsInCompany  salary gender  \\\n",
       "0   1     Suren    Itgel      SU03   18             0.5    1.50      F   \n",
       "1   2    Chimeg   Baldan      BH98   23             2.0    1.70      F   \n",
       "2   3     Gerel     Tsog      DA86   35             4.0    1.90      F   \n",
       "3   4   Kherlen     Sukh      BU79   42             2.0    1.60      F   \n",
       "4   5    Badral  Damchaa      ER89   32             8.0    2.30      M   \n",
       "5   6    Dondog    Uuree      DO96   25             3.0    2.10      M   \n",
       "6   7      Dash   Byamba      UB92   29             4.0    1.79      M   \n",
       "7   8       Bat    Bayar      UB02   19             6.0    2.40      M   \n",
       "8   9     Saran  Tuvshin      DU97   24             2.0    1.30      F   \n",
       "9  10     Naran  Saikhan      AR91   30             1.0    1.50      M   \n",
       "\n",
       "   startDate  \n",
       "0 2020-05-13  \n",
       "1 2011-07-12  \n",
       "2 2017-06-14  \n",
       "3 2019-11-15  \n",
       "4 2013-01-25  \n",
       "5 2018-03-04  \n",
       "6 2017-05-27  \n",
       "7 2015-07-17  \n",
       "8 2019-08-04  \n",
       "9 2020-07-01  "
      ]
     },
     "execution_count": 6,
     "metadata": {},
     "output_type": "execute_result"
    }
   ],
   "source": [
    "df"
   ]
  },
  {
   "cell_type": "code",
   "execution_count": 14,
   "id": "f97c37fd",
   "metadata": {},
   "outputs": [],
   "source": [
    "# If\n",
    "\n",
    "my_number = 9\n",
    "if my_number > 1 and my_number < 10:\n",
    "    print('Hello')"
   ]
  },
  {
   "cell_type": "code",
   "execution_count": 27,
   "id": "2643e326",
   "metadata": {},
   "outputs": [
    {
     "name": "stdout",
     "output_type": "stream",
     "text": [
      "The number is 20\n"
     ]
    }
   ],
   "source": [
    "my_number = 20\n",
    "if my_number == 5:\n",
    "    print (\"The humber is 5\")\n",
    "elif my_number == 20:\n",
    "    print('The number is 20')\n",
    "elif my_number == 10:\n",
    "    print('The number is 20')\n",
    "else:\n",
    "    print('The number is not 5, 10, 20')"
   ]
  },
  {
   "cell_type": "code",
   "execution_count": 44,
   "id": "d392ed7a",
   "metadata": {},
   "outputs": [
    {
     "name": "stdout",
     "output_type": "stream",
     "text": [
      "Divisible by 5 and not between 1 and 10\n"
     ]
    }
   ],
   "source": [
    "my_number = 25\n",
    "if np.mod(my_number,5) == 0:\n",
    "    if my_number >1 and my_number <10:\n",
    "        print(\"divisible by 5 and between 1 and 10\")\n",
    "    else:\n",
    "        print(\"Divisible by 5 and not between 1 and 10\")\n",
    "else:\n",
    "    print(\"the number is not divisible by 5\")"
   ]
  },
  {
   "cell_type": "code",
   "execution_count": 46,
   "id": "5d05e0dc",
   "metadata": {},
   "outputs": [
    {
     "data": {
      "text/plain": [
       "False"
      ]
     },
     "execution_count": 46,
     "metadata": {},
     "output_type": "execute_result"
    }
   ],
   "source": [
    "np.mod(25,5) == 5"
   ]
  },
  {
   "cell_type": "code",
   "execution_count": 47,
   "id": "c95d750a",
   "metadata": {},
   "outputs": [
    {
     "name": "stdout",
     "output_type": "stream",
     "text": [
      "0\n",
      "1\n",
      "2\n",
      "3\n",
      "4\n"
     ]
    }
   ],
   "source": [
    "# loop\n",
    "\n",
    "for i in range(5):\n",
    "    print(i)\n"
   ]
  },
  {
   "cell_type": "code",
   "execution_count": 48,
   "id": "d3580cc5",
   "metadata": {},
   "outputs": [
    {
     "name": "stdout",
     "output_type": "stream",
     "text": [
      "bat\n",
      "Gerel\n",
      "Bold\n"
     ]
    }
   ],
   "source": [
    "mylist = ('bat', 'Gerel', 'Bold')\n",
    "for name in mylist:\n",
    "    print(name)"
   ]
  },
  {
   "cell_type": "code",
   "execution_count": 57,
   "id": "2fb70378",
   "metadata": {},
   "outputs": [
    {
     "name": "stdout",
     "output_type": "stream",
     "text": [
      "0\n",
      "2\n",
      "2\n",
      "6\n",
      "4\n",
      "10\n",
      "6\n",
      "14\n",
      "8\n",
      "18\n"
     ]
    }
   ],
   "source": [
    "for i in range(16):\n",
    "    if i <10:\n",
    "        if np.mod(i,2) == 0:\n",
    "            print(i)\n",
    "        else:\n",
    "            print(i*2)\n",
    "    else:\n",
    "        break # zogsoh"
   ]
  },
  {
   "cell_type": "code",
   "execution_count": 64,
   "id": "ad14a4fd",
   "metadata": {},
   "outputs": [
    {
     "name": "stdout",
     "output_type": "stream",
     "text": [
      "10\n"
     ]
    }
   ],
   "source": [
    "if i in range(15):\n",
    "    if (i > 8) & (i < 12):\n",
    "        if np.mod(i,2) == 0:\n",
    "            print(i)\n",
    "        else:\n",
    "            print(i+1)\n",
    "    else:\n",
    "        Continue #daraagiin loopruu shiljih"
   ]
  },
  {
   "cell_type": "code",
   "execution_count": 80,
   "id": "67b22ddc",
   "metadata": {},
   "outputs": [
    {
     "name": "stdout",
     "output_type": "stream",
     "text": [
      "11\n",
      "12\n",
      "13\n",
      "14\n"
     ]
    }
   ],
   "source": [
    "for i in range(15):\n",
    "    if i > 10:\n",
    "        print(i)\n",
    "    else:\n",
    "        continue"
   ]
  },
  {
   "cell_type": "code",
   "execution_count": 82,
   "id": "88d02142",
   "metadata": {},
   "outputs": [],
   "source": [
    "for i in range(15):\n",
    "    if i > 10:\n",
    "        pass # yu hiihee medku bol pass gej bicheed code will run\n",
    "    else:\n",
    "        continue"
   ]
  },
  {
   "cell_type": "code",
   "execution_count": 86,
   "id": "cad06270",
   "metadata": {},
   "outputs": [
    {
     "name": "stdout",
     "output_type": "stream",
     "text": [
      "0\n",
      "1\n",
      "2\n",
      "3\n",
      "4\n",
      "13\n",
      "14\n"
     ]
    }
   ],
   "source": [
    "for i in range(15):\n",
    "    if (i<5) | (i>12):  # or-g \"|\" gej temdeglene\n",
    "        print(i)\n",
    "    else:\n",
    "        continue"
   ]
  },
  {
   "cell_type": "code",
   "execution_count": 99,
   "id": "9206458a",
   "metadata": {},
   "outputs": [
    {
     "name": "stdout",
     "output_type": "stream",
     "text": [
      "ider\n",
      "sugar\n",
      "1\n",
      "2\n",
      "3\n",
      "6\n",
      "6\n",
      "1\n",
      "2\n",
      "3\n",
      "6\n",
      "6\n"
     ]
    }
   ],
   "source": [
    "mylist = [1,2,3, 'ider', 6,6, \"sugar\"]\n",
    "for item in mylist:\n",
    "    if isinstance(item, str): #isinstance ni item-g str or int bgag shalgana\n",
    "        print(item)\n",
    "for item in mylist:\n",
    "    if isinstance(item, int):\n",
    "        print(item)        \n",
    "\n",
    "short_list = [1,2,5]\n",
    "\n",
    "if i in range(10):\n",
    "    if i in short_list:\n",
    "        Print(i)\n",
    "\n",
    "for item in mylist:\n",
    "    if type(item) == int:\n",
    "        print(item)\n",
    "        "
   ]
  },
  {
   "cell_type": "code",
   "execution_count": null,
   "id": "9bf6c868",
   "metadata": {},
   "outputs": [],
   "source": []
  }
 ],
 "metadata": {
  "kernelspec": {
   "display_name": "Python 3",
   "language": "python",
   "name": "python3"
  },
  "language_info": {
   "codemirror_mode": {
    "name": "ipython",
    "version": 3
   },
   "file_extension": ".py",
   "mimetype": "text/x-python",
   "name": "python",
   "nbconvert_exporter": "python",
   "pygments_lexer": "ipython3",
   "version": "3.8.8"
  }
 },
 "nbformat": 4,
 "nbformat_minor": 5
}
